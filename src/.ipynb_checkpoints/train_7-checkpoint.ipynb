{
 "cells": [
  {
   "cell_type": "code",
   "execution_count": 17,
   "metadata": {},
   "outputs": [],
   "source": [
    "ban='_1637078222.629906_8_0.8196_0.664'\n",
    "batch_size=8"
   ]
  },
  {
   "cell_type": "code",
   "execution_count": 2,
   "metadata": {},
   "outputs": [],
   "source": [
    "import torch\n",
    "\n",
    "device0 = torch.device('cuda:5' if torch.cuda.is_available() else \"cpu\")\n",
    "device1 = torch.device('cuda:5' if torch.cuda.is_available() else \"cpu\")"
   ]
  },
  {
   "cell_type": "code",
   "execution_count": 3,
   "metadata": {},
   "outputs": [],
   "source": [
    "# 读数据\n",
    "import pandas as pd\n",
    "df_train=pd.read_excel(\"../data/df_train.xlsx\",index_col=0)\n",
    "df_test=pd.read_excel(\"../data/df_test.xlsx\",index_col=0)"
   ]
  },
  {
   "cell_type": "code",
   "execution_count": 4,
   "metadata": {},
   "outputs": [],
   "source": [
    "import ast\n",
    "for i in range(len(df_train)):\n",
    "    old_list=ast.literal_eval(df_train.loc[i]['label'])\n",
    "    df_train.loc[i]['label']=old_list\n",
    "    \n",
    "for i in range(len(df_test)):\n",
    "    old_list=ast.literal_eval(df_test.loc[i]['label'])\n",
    "    df_test.loc[i]['label']=old_list"
   ]
  },
  {
   "cell_type": "code",
   "execution_count": 5,
   "metadata": {},
   "outputs": [],
   "source": [
    "from transformers import AutoTokenizer, AutoModel\n",
    "tokenizer = AutoTokenizer.from_pretrained(\"bert-base-chinese\")\n",
    "df_train_text=[df_train['text'][i] for i in range(len(df_train))]\n",
    "df_test_text=[df_test['text'][i] for i in range(len(df_test))]\n"
   ]
  },
  {
   "cell_type": "code",
   "execution_count": 6,
   "metadata": {},
   "outputs": [],
   "source": [
    "text2id_train = tokenizer(\n",
    "        df_train_text, max_length=100, padding='max_length', truncation=True, return_tensors=\"pt\"\n",
    "    )\n",
    "input_ids_train=text2id_train[\"input_ids\"]\n",
    "mask_train=text2id_train[\"attention_mask\"]\n",
    "\n",
    "text2id_test = tokenizer(\n",
    "        df_test_text, max_length=100, padding='max_length', truncation=True, return_tensors=\"pt\"\n",
    "    )\n",
    "input_ids_test=text2id_test[\"input_ids\"]\n",
    "mask_test=text2id_test[\"attention_mask\"]\n"
   ]
  },
  {
   "cell_type": "code",
   "execution_count": 7,
   "metadata": {},
   "outputs": [],
   "source": [
    "df_train['input_ids']=input_ids_train.tolist()\n",
    "df_train['mask']=mask_train.tolist()\n",
    "\n",
    "df_test['input_ids']=input_ids_test.tolist()\n",
    "df_test['mask']=mask_test.tolist()"
   ]
  },
  {
   "cell_type": "code",
   "execution_count": 8,
   "metadata": {},
   "outputs": [],
   "source": [
    "from torch.utils.data import Dataset\n",
    "class SentimentDataset(Dataset):\n",
    "    def __init__(self,df):\n",
    "        self.dataset = df\n",
    "    def __len__(self):\n",
    "        return len(self.dataset)\n",
    "    def __getitem__(self, idx):\n",
    "        text = self.dataset.loc[idx, \"text\"]\n",
    "        label = self.dataset.loc[idx, \"label\"]\n",
    "#         print(label)\n",
    "        input_ids = self.dataset.loc[idx, \"input_ids\"]\n",
    "        mask = self.dataset.loc[idx, \"mask\"]\n",
    "        sample = {\"text\": text, \"label\": label,\"input_ids\":input_ids,\"mask\":mask}\n",
    "        # print(sample)\n",
    "        return sample"
   ]
  },
  {
   "cell_type": "code",
   "execution_count": 9,
   "metadata": {},
   "outputs": [
    {
     "name": "stdout",
     "output_type": "stream",
     "text": [
      "<torch.utils.data.dataloader.DataLoader object at 0x7f3cec0470d0>\n",
      "<torch.utils.data.dataloader.DataLoader object at 0x7f3cec047210>\n"
     ]
    }
   ],
   "source": [
    "#按batch_size分\n",
    "from torch.utils.data import DataLoader,TensorDataset\n",
    "import numpy as np\n",
    "import torch\n",
    "\n",
    "train_loader = DataLoader(\n",
    "    SentimentDataset(df_train), \n",
    "    batch_size=batch_size, \n",
    "    shuffle=True, \n",
    "    num_workers=0\n",
    ")\n",
    "print(train_loader)\n",
    "\n",
    "test_loader = DataLoader(\n",
    "    SentimentDataset(df_test), \n",
    "    batch_size=batch_size, \n",
    "    shuffle=False, \n",
    "    num_workers=0\n",
    ")\n",
    "print(test_loader)"
   ]
  },
  {
   "cell_type": "code",
   "execution_count": 10,
   "metadata": {},
   "outputs": [],
   "source": [
    "from transformers import AutoTokenizer, AutoModel\n",
    "import torch.nn as nn\n",
    "import torch.nn.functional as F\n",
    "\n",
    "\n",
    "class fn_cls(nn.Module):\n",
    "    def __init__(self,device):\n",
    "        super(fn_cls, self).__init__()\n",
    "        self.model = AutoModel.from_pretrained(\"bert-base-chinese\")\n",
    "        self.model.to(device)\n",
    "        self.dropout = nn.Dropout(0.5)\n",
    "        self.l1 = nn.Linear(768, 24)\n",
    "        \n",
    "        \n",
    "    def forward(self, x, attention_mask=None):\n",
    "        outputs = self.model(x, attention_mask=attention_mask)\n",
    "        x = outputs[1]\n",
    "        x = self.dropout(x)\n",
    "        x = self.l1(x)#8 24\n",
    "        end=[]\n",
    "        for i in range(len(x)):\n",
    "            end.append(torch.stack(list(x[i].split(4, 0))))\n",
    "        x=torch.stack(end)\n",
    "#         print(x)\n",
    "        return x #batchsize* 6 * 4"
   ]
  },
  {
   "cell_type": "code",
   "execution_count": 18,
   "metadata": {},
   "outputs": [],
   "source": [
    "import torch\n",
    "\n",
    "if ban==0:\n",
    "    cls = fn_cls(device0)\n",
    "    cls.train()\n",
    "else:\n",
    "    cls=torch.load(\"../data/cls\"+str(ban)+\".model\",map_location=device0)"
   ]
  },
  {
   "cell_type": "code",
   "execution_count": 12,
   "metadata": {},
   "outputs": [
    {
     "name": "stdout",
     "output_type": "stream",
     "text": [
      "[28970.0, 410.0, 314.0, 408.0]\n",
      "[28234.0, 1222.0, 425.0, 221.0]\n",
      "[28536.0, 814.0, 472.0, 280.0]\n",
      "[27108.0, 1405.0, 1045.0, 544.0]\n",
      "[27972.0, 928.0, 824.0, 378.0]\n",
      "[25519.0, 1945.0, 1706.0, 932.0]\n"
     ]
    }
   ],
   "source": [
    "import numpy as np\n",
    "sumn=np.zeros((6,4))\n",
    "for i in range(len(df_train)):\n",
    "    label=df_train.loc[i]['label']\n",
    "    for j in range(6):\n",
    "        sumn[j][label[j]]+=1\n",
    "# print(sumn)\n",
    "sumn=sumn.tolist()\n",
    "# print(sumn)\n",
    "sumn0=np.zeros((6,4))\n",
    "for i in range(6):\n",
    "    print(sumn[i])\n",
    "    for j in range(4):\n",
    "        sumn0[i][j]=sumn[i][0]/sumn[i][j]\n",
    "# print(sumn0)\n",
    "sumn0=torch.tensor(sumn0).float().to(device0)\n",
    "# print(sumn0)\n"
   ]
  },
  {
   "cell_type": "code",
   "execution_count": 13,
   "metadata": {},
   "outputs": [
    {
     "name": "stdout",
     "output_type": "stream",
     "text": [
      "tensor([[  1.0000,  70.6585,  92.2611,  71.0049],\n",
      "        [  1.0000,  23.1047,  66.4329, 127.7557],\n",
      "        [  1.0000,  35.0565,  60.4576, 101.9143],\n",
      "        [  1.0000,  19.2940,  25.9407,  49.8309],\n",
      "        [  1.0000,  30.1422,  33.9466,  74.0000],\n",
      "        [  1.0000,  13.1203,  14.9584,  27.3809]], device='cuda:5')\n"
     ]
    }
   ],
   "source": [
    "print(sumn0)"
   ]
  },
  {
   "cell_type": "code",
   "execution_count": 19,
   "metadata": {},
   "outputs": [],
   "source": [
    "from torch import optim\n",
    "#BCEWithLogitsLoss就是把Sigmoid-BCELoss合成一步\n",
    "criterion=[]\n",
    "for i in range(6):\n",
    "    criterion.append(nn.CrossEntropyLoss(weight=sumn0[i]))\n",
    "# for i in range(6):\n",
    "#     criterion.append(nn.CrossEntropyLoss())\n",
    "Softmax=nn.Softmax(dim = 2) \n",
    "optimizer = optim.Adam(cls.parameters(), lr=1e-5)"
   ]
  },
  {
   "cell_type": "code",
   "execution_count": 20,
   "metadata": {},
   "outputs": [],
   "source": [
    "def get_loss_test(output,A):#8*18\n",
    "#     print(output,A)\n",
    "    cor_add=(output == A).sum().item()\n",
    "    sum0=0\n",
    "    for i in range(len(output)):\n",
    "        for j in range(6):\n",
    "            sum0+=(output[i][j]-A[i][j])*(output[i][j]-A[i][j])\n",
    "#     print(sum0.item(),cor_add)\n",
    "    return sum0.item(),cor_add\n",
    "\n",
    "def test(device_test):\n",
    "    cls.to(device_test)\n",
    "    cls.eval()\n",
    "\n",
    "    correct = 0\n",
    "    total = 0\n",
    "    loss_test=0\n",
    "    loss_aa=0\n",
    "    for batch_idx,batch in enumerate(test_loader):\n",
    "        with torch.no_grad():\n",
    "            label_=torch.stack(batch['label']).long().to(device_test)#用于算loss\n",
    "            input_ids=torch.stack(batch['input_ids']).t().to(device_test)\n",
    "            mask=torch.stack(batch['mask']).t().to(device_test)\n",
    "            output = cls(input_ids, attention_mask=mask)\n",
    "\n",
    "            #计算loss\n",
    "            output_=torch.transpose(output,0,1)#用于算loss\n",
    "            loss_a=0\n",
    "            for i in range(6):\n",
    "#                 print(output_[i],label_[i])\n",
    "                loss=criterion[i](output_[i],label_[i])\n",
    "                loss_a+=loss\n",
    "            loss_aa+=loss_a.item()\n",
    "            \n",
    "            \n",
    "            #计算score和acc\n",
    "            label=label_.t().to(device_test)#用于算分\n",
    "            output=Softmax(output)\n",
    "            output=output.argmax(dim=2)\n",
    "            \n",
    "            total += len(output)*6\n",
    "            \n",
    "            loss_add,cor_add = get_loss_test(output, label)\n",
    "            loss_test+=loss_add\n",
    "            correct+=cor_add\n",
    "            tes_score=1/(1+(loss_test/total) ** 0.5)\n",
    "            acc_score=100.*correct/total\n",
    "   \n",
    "        \n",
    "\n",
    "        print('[{}/{} ({:.0f}%)]\\t正确分类的样本数：{}，样本总数：{}，准确率：{:.2f}%，score：{}，loss：{}'.format(\n",
    "                    batch_idx, len(test_loader),100.*batch_idx/len(test_loader), \n",
    "                    correct, total,acc_score,\n",
    "                    tes_score,loss_aa\n",
    "            ),end='\\r')\n",
    "    print('[{}/{} ({:.0f}%)]\\t正确分类的样本数：{}，样本总数：{}，准确率：{:.2f}%，score：{}，loss：{}'.format(\n",
    "                    batch_idx, len(test_loader),100.*batch_idx/len(test_loader), \n",
    "                    correct, total,acc_score,\n",
    "                    tes_score,loss_aa\n",
    "            ))\n",
    "#     cls.to(device_train)\n",
    "    return tes_score,acc_score\n",
    "\n",
    "# test(device1)"
   ]
  },
  {
   "cell_type": "code",
   "execution_count": 21,
   "metadata": {
    "scrolled": true
   },
   "outputs": [
    {
     "name": "stdout",
     "output_type": "stream",
     "text": [
      "_________________________________________________________________\n",
      "_________________________________________________________________\n",
      "_________________ epoch:4 start _________________\n",
      "_________________________________________________________________\n",
      "_________________________________________________________________\n",
      "labels: tensor([[0, 0, 0, 0, 0, 0],ore:0.710756\t准确率：94.26%\tloss：6898.1756928563125\n",
      "        [0, 0, 0, 0, 0, 0],\n",
      "        [0, 0, 0, 0, 0, 0],\n",
      "        [0, 0, 0, 0, 0, 0],\n",
      "        [0, 0, 0, 0, 0, 0],\n",
      "        [0, 0, 0, 0, 0, 0]], device='cuda:5')\n",
      "pred: tensor([[0, 0, 0, 0, 0, 0],\n",
      "        [0, 0, 0, 0, 0, 2],\n",
      "        [0, 0, 0, 2, 0, 0],\n",
      "        [0, 0, 0, 0, 1, 0],\n",
      "        [0, 0, 0, 0, 0, 0],\n",
      "        [0, 0, 0, 1, 0, 0]], device='cuda:5')\n"
     ]
    },
    {
     "data": {
      "image/png": "[encoded data removed]",
      "text/plain": [
       "<Figure size 432x288 with 1 Axes>"
      ]
     },
     "metadata": {
      "needs_background": "light"
     },
     "output_type": "display_data"
    },
    {
     "name": "stdout",
     "output_type": "stream",
     "text": [
      "Train Epoch: 4\tscore:0.710530\t准确率：94.25%\tloss：6925.902040541172\n",
      "[834/835 (100%)]\t正确分类的样本数：34191，样本总数：40080，准确率：85.31%，score：0.6416043893467993，loss：5809.600079774857\n",
      "epoch: 4_执行时间:  235.4365153312683\n",
      "_________________________________________________________________\n",
      "_________________________________________________________________\n",
      "_________________ epoch:4 end _________________\n",
      "_________________________________________________________________\n",
      "_________________________________________________________________\n",
      "_________________________________________________________________\n",
      "_________________________________________________________________\n",
      "_________________ epoch:5 start _________________\n",
      "_________________________________________________________________\n",
      "_________________________________________________________________\n",
      "labels: tensor([[0, 0, 0, 0, 0, 3],ore:0.742363\t准确率：96.01%\tloss：4729.3652241379025\n",
      "        [0, 0, 0, 0, 0, 0],\n",
      "        [0, 0, 0, 0, 0, 1],\n",
      "        [0, 0, 0, 0, 0, 0],\n",
      "        [0, 0, 0, 0, 0, 0],\n",
      "        [0, 0, 0, 0, 0, 0]], device='cuda:5')\n",
      "pred: tensor([[0, 0, 0, 0, 3, 3],\n",
      "        [0, 0, 0, 1, 0, 0],\n",
      "        [0, 0, 0, 0, 0, 1],\n",
      "        [0, 0, 0, 0, 0, 0],\n",
      "        [0, 0, 0, 0, 0, 1],\n",
      "        [0, 0, 0, 0, 0, 0]], device='cuda:5')\n"
     ]
    },
    {
     "data": {
      "image/png": "[encoded data removed]",
      "text/plain": [
       "<Figure size 432x288 with 1 Axes>"
      ]
     },
     "metadata": {
      "needs_background": "light"
     },
     "output_type": "display_data"
    },
    {
     "name": "stdout",
     "output_type": "stream",
     "text": [
      "Train Epoch: 5\tscore:0.742330\t准确率：96.01%\tloss：4750.322882637382\n",
      "[834/835 (100%)]\t正确分类的样本数：34512，样本总数：40080，准确率：86.11%，score：0.6555340216573616，loss：6177.605681523681\n",
      "epoch: 5_执行时间:  235.67454147338867\n",
      "_________________________________________________________________\n",
      "_________________________________________________________________\n",
      "_________________ epoch:5 end _________________\n",
      "_________________________________________________________________\n",
      "_________________________________________________________________\n",
      "_________________________________________________________________\n",
      "_________________________________________________________________\n",
      "_________________ epoch:6 start _________________\n",
      "_________________________________________________________________\n",
      "_________________________________________________________________\n",
      "labels: tensor([[0, 0, 0, 0, 0, 0],ore:0.767166\t准确率：97.09%\tloss：3443.5837973766033\n",
      "        [0, 0, 0, 0, 0, 0],\n",
      "        [0, 1, 0, 0, 0, 0],\n",
      "        [0, 0, 0, 0, 0, 0],\n",
      "        [0, 0, 0, 0, 0, 0],\n",
      "        [2, 0, 0, 0, 0, 0]], device='cuda:5')\n",
      "pred: tensor([[0, 0, 0, 0, 0, 0],\n",
      "        [0, 0, 0, 0, 0, 0],\n",
      "        [0, 1, 0, 0, 0, 0],\n",
      "        [0, 0, 0, 0, 0, 0],\n",
      "        [0, 0, 0, 0, 0, 0],\n",
      "        [2, 0, 0, 0, 0, 2]], device='cuda:5')\n"
     ]
    },
    {
     "data": {
      "image/png": "[encoded data removed]",
      "text/plain": [
       "<Figure size 432x288 with 1 Axes>"
      ]
     },
     "metadata": {
      "needs_background": "light"
     },
     "output_type": "display_data"
    },
    {
     "name": "stdout",
     "output_type": "stream",
     "text": [
      "Train Epoch: 6\tscore:0.767190\t准确率：97.09%\tloss：3460.4353677742183\n",
      "[834/835 (100%)]\t正确分类的样本数：34701，样本总数：40080，准确率：86.58%，score：0.6563526761668037，loss：7021.4056255109615\n",
      "epoch: 6_执行时间:  236.81996035575867\n",
      "_________________________________________________________________\n",
      "_________________________________________________________________\n",
      "_________________ epoch:6 end _________________\n",
      "_________________________________________________________________\n",
      "_________________________________________________________________\n",
      "_________________________________________________________________\n",
      "_________________________________________________________________\n",
      "_________________ epoch:7 start _________________\n",
      "_________________________________________________________________\n",
      "_________________________________________________________________\n",
      "labels: tensor([[0, 0, 0, 0, 0, 2],ore:0.791745\t准确率：97.90%\tloss：2500.3836962729692\n",
      "        [0, 0, 0, 0, 0, 0],\n",
      "        [0, 0, 0, 0, 0, 0],\n",
      "        [0, 0, 0, 0, 0, 0],\n",
      "        [0, 0, 0, 0, 0, 1],\n",
      "        [0, 0, 0, 0, 0, 0]], device='cuda:5')\n",
      "pred: tensor([[0, 0, 0, 0, 0, 2],\n",
      "        [0, 0, 1, 0, 0, 0],\n",
      "        [0, 0, 1, 0, 1, 0],\n",
      "        [0, 0, 0, 0, 0, 0],\n",
      "        [0, 0, 0, 0, 0, 1],\n",
      "        [0, 0, 0, 0, 0, 1]], device='cuda:5')\n"
     ]
    },
    {
     "data": {
      "image/png": "[encoded data removed]",
      "text/plain": [
       "<Figure size 432x288 with 1 Axes>"
      ]
     },
     "metadata": {
      "needs_background": "light"
     },
     "output_type": "display_data"
    },
    {
     "name": "stdout",
     "output_type": "stream",
     "text": [
      "Train Epoch: 7\tscore:0.791830\t准确率：97.90%\tloss：2511.786433160305\n",
      "[834/835 (100%)]\t正确分类的样本数：34925，样本总数：40080，准确率：87.14%，score：0.6664893616739133，loss：7427.685778953135\n",
      "epoch: 7_执行时间:  235.67652249336243\n",
      "_________________________________________________________________\n",
      "_________________________________________________________________\n",
      "_________________ epoch:7 end _________________\n",
      "_________________________________________________________________\n",
      "_________________________________________________________________\n",
      "_________________________________________________________________\n",
      "_________________________________________________________________\n",
      "_________________ epoch:8 start _________________\n",
      "_________________________________________________________________\n",
      "_________________________________________________________________\n",
      "labels: tensor([[0, 0, 0, 0, 0, 0],ore:0.819548\t准确率：98.51%\tloss：1871.4600694403052\n",
      "        [0, 0, 0, 0, 0, 0],\n",
      "        [0, 0, 0, 0, 0, 0],\n",
      "        [0, 0, 0, 0, 0, 0],\n",
      "        [0, 0, 0, 0, 0, 0],\n",
      "        [0, 0, 0, 0, 0, 0]], device='cuda:5')\n",
      "pred: tensor([[0, 0, 0, 0, 0, 0],\n",
      "        [0, 0, 0, 0, 0, 0],\n",
      "        [0, 0, 0, 0, 0, 0],\n",
      "        [0, 0, 0, 0, 0, 0],\n",
      "        [0, 0, 0, 0, 0, 0],\n",
      "        [0, 0, 0, 0, 0, 0]], device='cuda:5')\n"
     ]
    },
    {
     "data": {
      "image/png": "[encoded data removed]",
      "text/plain": [
       "<Figure size 432x288 with 1 Axes>"
      ]
     },
     "metadata": {
      "needs_background": "light"
     },
     "output_type": "display_data"
    },
    {
     "name": "stdout",
     "output_type": "stream",
     "text": [
      "Train Epoch: 8\tscore:0.819627\t准确率：98.52%\tloss：1878.7193962708116\n",
      "[834/835 (100%)]\t正确分类的样本数：34841，样本总数：40080，准确率：86.93%，score：0.6639880471469095，loss：7910.286147806793\n",
      "epoch: 8_执行时间:  236.04136276245117\n",
      "_________________________________________________________________\n",
      "_________________________________________________________________\n",
      "_________________ epoch:8 end _________________\n",
      "_________________________________________________________________\n",
      "_________________________________________________________________\n",
      "_________________________________________________________________\n",
      "_________________________________________________________________\n",
      "_________________ epoch:9 start _________________\n",
      "_________________________________________________________________\n",
      "_________________________________________________________________\n",
      "labels: tensor([[0, 3, 0, 0, 0, 0],ore:0.845886\t准确率：98.92%\tloss：1471.3440199382603\n",
      "        [0, 0, 2, 3, 0, 2],\n",
      "        [0, 0, 0, 0, 0, 0],\n",
      "        [0, 0, 0, 1, 0, 0],\n",
      "        [0, 0, 0, 0, 0, 0],\n",
      "        [0, 0, 0, 0, 0, 0]], device='cuda:5')\n",
      "pred: tensor([[0, 3, 0, 0, 0, 0],\n",
      "        [0, 0, 2, 3, 0, 2],\n",
      "        [0, 0, 0, 0, 0, 2],\n",
      "        [0, 0, 0, 1, 0, 0],\n",
      "        [0, 0, 0, 0, 0, 0],\n",
      "        [0, 0, 0, 0, 0, 0]], device='cuda:5')\n"
     ]
    },
    {
     "data": {
      "image/png": "[encoded data removed]",
      "text/plain": [
       "<Figure size 432x288 with 1 Axes>"
      ]
     },
     "metadata": {
      "needs_background": "light"
     },
     "output_type": "display_data"
    },
    {
     "name": "stdout",
     "output_type": "stream",
     "text": [
      "Train Epoch: 9\tscore:0.845943\t准确率：98.92%\tloss：1476.3018248006701\n",
      "[834/835 (100%)]\t正确分类的样本数：35012，样本总数：40080，准确率：87.36%，score：0.6703657866870284，loss：8325.498922299594\n",
      "epoch: 9_执行时间:  237.37265038490295\n",
      "_________________________________________________________________\n",
      "_________________________________________________________________\n",
      "_________________ epoch:9 end _________________\n",
      "_________________________________________________________________\n",
      "_________________________________________________________________\n",
      "_________________________________________________________________\n",
      "_________________________________________________________________\n",
      "_________________ epoch:10 start _________________\n",
      "_________________________________________________________________\n",
      "_________________________________________________________________\n",
      "labels: tensor([[0, 0, 0, 0, 0, 0],core:0.864927\t准确率：99.18%\tloss：1185.2607762422413\n",
      "        [0, 0, 0, 0, 0, 0],\n",
      "        [0, 0, 0, 0, 0, 0],\n",
      "        [0, 0, 0, 0, 0, 3],\n",
      "        [0, 0, 2, 0, 0, 0],\n",
      "        [0, 0, 0, 0, 0, 0]], device='cuda:5')\n",
      "pred: tensor([[0, 0, 0, 0, 0, 0],\n",
      "        [0, 0, 0, 0, 0, 0],\n",
      "        [0, 0, 0, 0, 0, 0],\n",
      "        [0, 0, 0, 0, 0, 3],\n",
      "        [0, 0, 2, 0, 0, 0],\n",
      "        [0, 0, 0, 0, 0, 0]], device='cuda:5')\n"
     ]
    },
    {
     "data": {
      "image/png": "[encoded data removed]",
      "text/plain": [
       "<Figure size 432x288 with 1 Axes>"
      ]
     },
     "metadata": {
      "needs_background": "light"
     },
     "output_type": "display_data"
    },
    {
     "name": "stdout",
     "output_type": "stream",
     "text": [
      "Train Epoch: 10\tscore:0.865123\t准确率：99.18%\tloss：1193.0048269741237\n",
      "[834/835 (100%)]\t正确分类的样本数：35115，样本总数：40080，准确率：87.61%，score：0.6729211914657343，loss：8826.345960597508\n",
      "epoch: 10_执行时间:  236.34499502182007\n",
      "_________________________________________________________________\n",
      "_________________________________________________________________\n",
      "_________________ epoch:10 end _________________\n",
      "_________________________________________________________________\n",
      "_________________________________________________________________\n",
      "_________________________________________________________________\n",
      "_________________________________________________________________\n",
      "_________________ epoch:11 start _________________\n",
      "_________________________________________________________________\n",
      "_________________________________________________________________\n",
      "labels: tensor([[0, 0, 0, 0, 0, 0],core:0.875637\t准确率：99.32%\tloss：1029.1472155665979\n",
      "        [0, 0, 0, 0, 0, 3],\n",
      "        [0, 0, 0, 0, 0, 0],\n",
      "        [0, 0, 0, 2, 0, 0],\n",
      "        [0, 1, 0, 0, 0, 0],\n",
      "        [0, 0, 2, 0, 0, 0]], device='cuda:5')\n",
      "pred: tensor([[0, 0, 0, 0, 0, 0],\n",
      "        [0, 0, 0, 0, 0, 3],\n",
      "        [0, 0, 0, 0, 0, 0],\n",
      "        [0, 0, 0, 2, 0, 0],\n",
      "        [0, 1, 0, 0, 0, 0],\n",
      "        [0, 0, 2, 0, 0, 0]], device='cuda:5')\n"
     ]
    },
    {
     "data": {
      "image/png": "[encoded data removed]",
      "text/plain": [
       "<Figure size 432x288 with 1 Axes>"
      ]
     },
     "metadata": {
      "needs_background": "light"
     },
     "output_type": "display_data"
    },
    {
     "name": "stdout",
     "output_type": "stream",
     "text": [
      "Train Epoch: 11\tscore:0.875789\t准确率：99.32%\tloss：1032.6549667892978\n",
      "[834/835 (100%)]\t正确分类的样本数：35114，样本总数：40080，准确率：87.61%，score：0.6747938375872586，loss：9035.521892004646\n",
      "epoch: 11_执行时间:  237.8774597644806\n",
      "_________________________________________________________________\n",
      "_________________________________________________________________\n",
      "_________________ epoch:11 end _________________\n",
      "_________________________________________________________________\n",
      "_________________________________________________________________\n",
      "_________________________________________________________________\n",
      "_________________________________________________________________\n",
      "_________________ epoch:12 start _________________\n",
      "_________________________________________________________________\n",
      "_________________________________________________________________\n",
      "labels: tensor([[0, 0, 0, 0, 0, 3],core:0.887594\t准确率：99.43%\tloss：862.40176762081684\n",
      "        [0, 0, 0, 0, 0, 0],\n",
      "        [0, 0, 0, 0, 0, 0],\n",
      "        [0, 0, 0, 0, 0, 0],\n",
      "        [0, 0, 0, 0, 0, 0],\n",
      "        [0, 0, 0, 0, 0, 0]], device='cuda:5')\n",
      "pred: tensor([[0, 0, 0, 0, 0, 3],\n",
      "        [0, 0, 0, 0, 0, 0],\n",
      "        [0, 0, 0, 0, 0, 0],\n",
      "        [0, 0, 0, 0, 0, 0],\n",
      "        [0, 0, 0, 0, 0, 0],\n",
      "        [0, 0, 0, 0, 0, 0]], device='cuda:5')\n"
     ]
    },
    {
     "data": {
      "image/png": "[encoded data removed]",
      "text/plain": [
       "<Figure size 432x288 with 1 Axes>"
      ]
     },
     "metadata": {
      "needs_background": "light"
     },
     "output_type": "display_data"
    },
    {
     "name": "stdout",
     "output_type": "stream",
     "text": [
      "Train Epoch: 12\tscore:0.887433\t准确率：99.43%\tloss：864.7735441494733\n",
      "[834/835 (100%)]\t正确分类的样本数：35102，样本总数：40080，准确率：87.58%，score：0.6733635637174672，loss：9394.582578703761\n",
      "epoch: 12_执行时间:  238.44699788093567\n",
      "_________________________________________________________________\n",
      "_________________________________________________________________\n",
      "_________________ epoch:12 end _________________\n",
      "_________________________________________________________________\n",
      "_________________________________________________________________\n",
      "_________________________________________________________________\n",
      "_________________________________________________________________\n",
      "_________________ epoch:13 start _________________\n",
      "_________________________________________________________________\n",
      "_________________________________________________________________\n",
      "labels: tensor([[0, 0, 0, 0, 0, 0],core:0.897062\t准确率：99.49%\tloss：768.15874406136576\n",
      "        [0, 0, 0, 0, 0, 3],\n",
      "        [0, 0, 0, 0, 0, 0],\n",
      "        [0, 0, 0, 0, 2, 0],\n",
      "        [0, 1, 0, 0, 0, 1],\n",
      "        [0, 0, 0, 0, 2, 0]], device='cuda:5')\n",
      "pred: tensor([[0, 0, 0, 0, 0, 0],\n",
      "        [0, 0, 0, 0, 0, 3],\n",
      "        [0, 0, 0, 0, 0, 0],\n",
      "        [0, 0, 0, 0, 2, 0],\n",
      "        [0, 1, 0, 0, 0, 0],\n",
      "        [0, 0, 0, 0, 2, 0]], device='cuda:5')\n"
     ]
    },
    {
     "data": {
      "image/png": "[encoded data removed]",
      "text/plain": [
       "<Figure size 432x288 with 1 Axes>"
      ]
     },
     "metadata": {
      "needs_background": "light"
     },
     "output_type": "display_data"
    },
    {
     "name": "stdout",
     "output_type": "stream",
     "text": [
      "Train Epoch: 13\tscore:0.896969\t准确率：99.49%\tloss：770.5815200991929\n",
      "[834/835 (100%)]\t正确分类的样本数：35115，样本总数：40080，准确率：87.61%，score：0.6751124633458321，loss：9691.239660821855\n",
      "epoch: 13_执行时间:  237.93998670578003\n",
      "_________________________________________________________________\n",
      "_________________________________________________________________\n",
      "_________________ epoch:13 end _________________\n",
      "_________________________________________________________________\n",
      "_________________________________________________________________\n"
     ]
    },
    {
     "data": {
      "image/png": "[encoded data removed]",
      "text/plain": [
       "<Figure size 432x288 with 1 Axes>"
      ]
     },
     "metadata": {
      "needs_background": "light"
     },
     "output_type": "display_data"
    },
    {
     "data": {
      "image/png": "[encoded data removed]",
      "text/plain": [
       "<Figure size 432x288 with 1 Axes>"
      ]
     },
     "metadata": {
      "needs_background": "light"
     },
     "output_type": "display_data"
    },
    {
     "data": {
      "image/png": "[encoded data removed]",
      "text/plain": [
       "<Figure size 432x288 with 1 Axes>"
      ]
     },
     "metadata": {
      "needs_background": "light"
     },
     "output_type": "display_data"
    }
   ],
   "source": [
    "import time  # 引入time模块\n",
    " \n",
    "\n",
    "import torch\n",
    "import matplotlib.pyplot as plt\n",
    "\n",
    "def train(device_train,device_test,epoch_be=0):\n",
    "    epoch_num=10\n",
    "    accumulation_steps=32\n",
    "    \n",
    "    train_score=[]\n",
    "    test_score=[]\n",
    "    test_acc=[]\n",
    "    \n",
    "    \n",
    "    for epoch_idx in range(epoch_be,epoch_be+epoch_num):\n",
    "        print(\"_________________________________________________________________\")\n",
    "        print(\"_________________________________________________________________\")\n",
    "        print(\"_________________ epoch:\"+str(epoch_idx)+\" start _________________\")\n",
    "        print(\"_________________________________________________________________\")\n",
    "        print(\"_________________________________________________________________\")\n",
    "        cls.to(device_train)\n",
    "        score_list=[]\n",
    "        \n",
    "        loss_aa=0\n",
    "        loss_train=0\n",
    "        total=0\n",
    "        correct=0\n",
    "        start = time.time()\n",
    "        for batch_idx,batch in enumerate(train_loader):\n",
    "            label_=torch.stack(batch['label']).long().to(device_train)#用于算loss\n",
    "            input_ids=torch.stack(batch['input_ids']).t().to(device_train)\n",
    "            mask=torch.stack(batch['mask']).t().to(device_train)\n",
    "            output = cls(input_ids, attention_mask=mask)\n",
    "#             print(output)\n",
    "            #计算loss\n",
    "            output_=torch.transpose(output,0,1)#用于算loss\n",
    "            loss_a=0\n",
    "            for i in range(6):\n",
    "#                 print(output_[i],label_[i])\n",
    "                loss=criterion[i](output_[i],label_[i])\n",
    "#                 print(loss)\n",
    "                loss_a+=loss\n",
    "            loss_a = loss_a/accumulation_steps\n",
    "            loss_a.backward()\n",
    "            \n",
    "            #计算score和acc\n",
    "            with torch.no_grad():\n",
    "                loss_aa+=loss_a.item()*accumulation_steps\n",
    "                \n",
    "                label=label_.t().to(device_train)#用于算分\n",
    "#                 print(output)\n",
    "                output=Softmax(output)\n",
    "#                 print(output)\n",
    "                output=output.argmax(dim=2)\n",
    "#                 print(output)\n",
    "                total += len(output)*6\n",
    "\n",
    "                loss_add,cor_add = get_loss_test(output, label)\n",
    "                loss_train+=loss_add\n",
    "                correct+=cor_add\n",
    "                tr_score=1/(1+(loss_train/total) ** 0.5)\n",
    "                acc_score=100.*correct/total\n",
    "\n",
    "\n",
    "            if((batch_idx+1) % accumulation_steps) == 0:\n",
    "                # 每 accumulation_steps 次更新一下网络中的参数\n",
    "                optimizer.step()\n",
    "                optimizer.zero_grad()\n",
    "\n",
    "            if ((batch_idx+1) % accumulation_steps) == 1:\n",
    "                score_list.append(tr_score)\n",
    "                print('Train Epoch: {} [{}/{} ({:.0f}%)]\\tscore:{:.6f}\\t准确率：{:.2f}%\\tloss：{}'.format(\n",
    "                    epoch_idx, batch_idx, len(train_loader), \n",
    "                    100.*batch_idx/len(train_loader), tr_score,acc_score,loss_aa\n",
    "                ),end='\\r')\n",
    "#                 print('Train Epoch: {} [{}/{} ({:.0f}%)]\\tscore:{:.6f}\\t准确率：{:.2f}%\\tloss：{}'.format(\n",
    "#                     epoch_idx, batch_idx, len(train_loader), \n",
    "#                     100.*batch_idx/len(train_loader), tr_score,acc_score,loss_aa\n",
    "#                 ))\n",
    "\n",
    "        #每个epoch结束：\n",
    "        print('labels:', label)\n",
    "        print('pred:', output)\n",
    "        plt.plot([i for i in range(len(score_list))], score_list)\n",
    "        plt.show()\n",
    "\n",
    "        print('Train Epoch: {}\\tscore:{:.6f}\\t准确率：{:.2f}%\\tloss：{}'.format(epoch_idx,tr_score,acc_score,loss_aa))\n",
    "        t_score,t_acc=test(device_test)\n",
    "\n",
    "        train_score.append(tr_score)\n",
    "        test_score.append(t_score)\n",
    "        test_acc.append(t_acc)\n",
    "\n",
    "        #保存模型\n",
    "        end = time.time()\n",
    "        print('epoch:',str(epoch_idx)+'_执行时间: ',end - start)\n",
    "        torch.save(cls,\"../data/cls_\"+str(end)+\"_\"+str(epoch_idx)+\"_\"+str(round(tr_score,4))+\"_\"+str(round(t_score,4))+\".model\")\n",
    "\n",
    "        print(\"_________________________________________________________________\")\n",
    "        print(\"_________________________________________________________________\")\n",
    "        print(\"_________________ epoch:\"+str(epoch_idx)+\" end _________________\")\n",
    "        print(\"_________________________________________________________________\")\n",
    "        print(\"_________________________________________________________________\")\n",
    "\n",
    "    plt.plot([i for i in range(len(train_score))], train_score)\n",
    "    plt.show()\n",
    "\n",
    "    plt.plot([i for i in range(len(test_score))], test_score)\n",
    "    plt.show()\n",
    "\n",
    "    plt.plot([i for i in range(len(test_acc))], test_acc)\n",
    "    plt.show()\n",
    "    \n",
    "train(device0,device1,epoch_be=4)\n"
   ]
  },
  {
   "cell_type": "code",
   "execution_count": 31,
   "metadata": {},
   "outputs": [],
   "source": [
    "end = time.time()\n",
    "torch.save(cls,\"../data/cls_\"+str(end)+\"_\"+str(2)+\"_\"+str(0.6886)+\"_\"+str(0.6942)+\".model\")\n"
   ]
  },
  {
   "cell_type": "code",
   "execution_count": 17,
   "metadata": {},
   "outputs": [],
   "source": [
    "# tokenizer = AutoTokenizer.from_pretrained(\"bert-base-chinese\")\n",
    "\n",
    "def get_output(device_pre,model,text,f=0):\n",
    "    model.to(device_pre)\n",
    "    model.eval()\n",
    "    text2id = tokenizer(\n",
    "        text, max_length=100, padding='max_length', truncation=True, return_tensors=\"pt\"\n",
    "    )\n",
    "#     print(text,text2id)\n",
    "    input_ids=text2id[\"input_ids\"].to(device_pre)\n",
    "    mask=text2id[\"attention_mask\"].to(device_pre)\n",
    "#         print(text2id)\n",
    "    output = model(input_ids, attention_mask=mask)\n",
    "    output=Softmax(output)\n",
    "    print(output)\n",
    "    output=output.argmax(dim=2)\n",
    "    return output"
   ]
  },
  {
   "cell_type": "code",
   "execution_count": 18,
   "metadata": {},
   "outputs": [
    {
     "name": "stdout",
     "output_type": "stream",
     "text": [
      "tensor([[[9.7799e-01, 1.1941e-02, 7.9482e-03, 2.1230e-03],\n",
      "         [9.8490e-01, 7.0098e-03, 6.4751e-03, 1.6194e-03],\n",
      "         [1.4748e-02, 9.7411e-01, 5.8708e-03, 5.2733e-03],\n",
      "         [9.9847e-01, 5.2393e-04, 2.5656e-04, 7.5458e-04],\n",
      "         [9.5939e-01, 3.5378e-02, 4.1141e-03, 1.1207e-03],\n",
      "         [9.8788e-01, 1.7164e-03, 6.2950e-03, 4.1062e-03]]], device='cuda:5',\n",
      "       grad_fn=<SoftmaxBackward0>)\n",
      "tensor([[0, 0, 1, 0, 0, 0]], device='cuda:5')\n"
     ]
    }
   ],
   "source": [
    "text = ['*与n3：啊？']\n",
    "# 爱、乐、惊、怒、恐、哀\n",
    "print(get_output(device1,cls,text,0))"
   ]
  },
  {
   "cell_type": "code",
   "execution_count": null,
   "metadata": {},
   "outputs": [],
   "source": []
  }
 ],
 "metadata": {
  "kernelspec": {
   "display_name": "bs0",
   "language": "python",
   "name": "bs0"
  },
  "language_info": {
   "codemirror_mode": {
    "name": "ipython",
    "version": 3
   },
   "file_extension": ".py",
   "mimetype": "text/x-python",
   "name": "python",
   "nbconvert_exporter": "python",
   "pygments_lexer": "ipython3",
   "version": "3.7.11"
  }
 },
 "nbformat": 4,
 "nbformat_minor": 2
}
